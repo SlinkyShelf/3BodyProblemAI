{
  "nbformat": 4,
  "nbformat_minor": 0,
  "metadata": {
    "colab": {
      "provenance": [],
      "toc_visible": true,
      "authorship_tag": "ABX9TyMJaSVaD71sX/t0JjxJLvcQ",
      "include_colab_link": true
    },
    "kernelspec": {
      "name": "python3",
      "display_name": "Python 3"
    },
    "language_info": {
      "name": "python"
    }
  },
  "cells": [
    {
      "cell_type": "markdown",
      "metadata": {
        "id": "view-in-github",
        "colab_type": "text"
      },
      "source": [
        "<a href=\"https://colab.research.google.com/github/SlinkyShelf/3BodyProblemAI/blob/main/3BodyProblemAI.ipynb\" target=\"_parent\"><img src=\"https://colab.research.google.com/assets/colab-badge.svg\" alt=\"Open In Colab\"/></a>"
      ]
    },
    {
      "cell_type": "markdown",
      "source": [
        "# Python Packages"
      ],
      "metadata": {
        "id": "9TC1v0jySnJi"
      }
    },
    {
      "cell_type": "code",
      "source": [
        "!pip3 install torch torchvision torchaudio --extra-index-url https://download.pytorch.org/whl/cu116"
      ],
      "metadata": {
        "id": "IxCZVOtiSqkt"
      },
      "execution_count": null,
      "outputs": []
    },
    {
      "cell_type": "markdown",
      "source": [
        "# Creating DataBase"
      ],
      "metadata": {
        "id": "1N9tB3lPP9Dx"
      }
    },
    {
      "cell_type": "code",
      "source": [
        "import numpy as np\n",
        "import random as rd\n",
        "import math\n",
        "\n",
        "# Dataset Variables\n",
        "sampleCount = 1\n",
        "objects = 2\n",
        "\n",
        "gravityConstant = 1\n",
        "\n",
        "timeScale = .05\n",
        "timeRange = 1\n",
        "frameRange = [100, 400]\n",
        "\n",
        "positionRange = 100\n",
        "velocityRange = 20\n",
        "\n",
        "setMass = 1\n",
        "\n",
        "samples = []\n",
        "\n",
        "# Random functions\n",
        "def normalRand():\n",
        "  return (rd.random()-.5)*2\n",
        "\n",
        "def randRange(_range):\n",
        "  return _range[0] + rd.random() * (_range[1] - _range[0])\n",
        "\n",
        "def simulate(sample):\n",
        "\n",
        "  # Creating manipulatable objects\n",
        "  objects1 = []\n",
        "  objects2 = []\n",
        "  for obj in sample[\"objects\"]:\n",
        "    objects1.append(obj.copy())\n",
        "    objects2.append(obj.copy())\n",
        "\n",
        "  # Actual simulation\n",
        "  for i in range(sample[\"frames\"]):\n",
        "    for obj in sample[\"objects\"]:\n",
        "        pass\n",
        "    \n",
        "    # Swapping Buffers\n",
        "    temp = objects1\n",
        "    objects1 = objects2\n",
        "    objects2 = temp\n",
        "\n",
        "  # End state\n",
        "  sample[\"endState\"] = objects1\n",
        "\n",
        "def createSample():\n",
        "  newsample = {}\n",
        "  newsample[\"objects\"] = []\n",
        "  newsample[\"frames\"] =  int(randRange(frameRange))\n",
        "  for i in range(objects):\n",
        "    newobject = {}\n",
        "    newobject[\"x\"] = rd.random()*positionRange\n",
        "    newobject[\"y\"] = rd.random()*positionRange\n",
        "\n",
        "    newobject[\"vx\"] = normalRand()*velocityRange\n",
        "    newobject[\"vy\"] = normalRand()*velocityRange\n",
        "\n",
        "    newobject[\"mass\"] = setMass\n",
        "    newsample[\"objects\"].append(newobject)\n",
        "\n",
        "  simulate(newsample)\n",
        "\n",
        "  return newsample\n",
        "\n",
        "for i in range(sampleCount):\n",
        "  samples.append(createSample())\n"
      ],
      "metadata": {
        "id": "hkNfrJjsPsKZ"
      },
      "execution_count": 5,
      "outputs": []
    },
    {
      "cell_type": "markdown",
      "source": [
        "# Creating the AI"
      ],
      "metadata": {
        "id": "tt-Oubp5QAxy"
      }
    }
  ]
}