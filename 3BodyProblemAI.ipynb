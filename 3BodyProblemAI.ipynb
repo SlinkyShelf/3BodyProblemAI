{
  "nbformat": 4,
  "nbformat_minor": 0,
  "metadata": {
    "colab": {
      "provenance": [],
      "toc_visible": true,
      "authorship_tag": "ABX9TyOXa3a1twbcR2chYHfz674Q",
      "include_colab_link": true
    },
    "kernelspec": {
      "name": "python3",
      "display_name": "Python 3"
    },
    "language_info": {
      "name": "python"
    }
  },
  "cells": [
    {
      "cell_type": "markdown",
      "metadata": {
        "id": "view-in-github",
        "colab_type": "text"
      },
      "source": [
        "<a href=\"https://colab.research.google.com/github/SlinkyShelf/3BodyProblemAI/blob/main/3BodyProblemAI.ipynb\" target=\"_parent\"><img src=\"https://colab.research.google.com/assets/colab-badge.svg\" alt=\"Open In Colab\"/></a>"
      ]
    },
    {
      "cell_type": "markdown",
      "source": [
        "# Python Packages"
      ],
      "metadata": {
        "id": "9TC1v0jySnJi"
      }
    },
    {
      "cell_type": "code",
      "source": [
        "!pip3 install torch torchvision torchaudio --extra-index-url https://download.pytorch.org/whl/cu116"
      ],
      "metadata": {
        "colab": {
          "base_uri": "https://localhost:8080/"
        },
        "id": "IxCZVOtiSqkt",
        "outputId": "ca0cc06d-2e02-4d62-c6de-6e19956679f0"
      },
      "execution_count": null,
      "outputs": [
        {
          "output_type": "stream",
          "name": "stdout",
          "text": [
            "Looking in indexes: https://pypi.org/simple, https://us-python.pkg.dev/colab-wheels/public/simple/, https://download.pytorch.org/whl/cu116\n",
            "Requirement already satisfied: torch in /usr/local/lib/python3.8/dist-packages (1.13.1+cu116)\n",
            "Requirement already satisfied: torchvision in /usr/local/lib/python3.8/dist-packages (0.14.1+cu116)\n",
            "Requirement already satisfied: torchaudio in /usr/local/lib/python3.8/dist-packages (0.13.1+cu116)\n",
            "Requirement already satisfied: typing-extensions in /usr/local/lib/python3.8/dist-packages (from torch) (4.4.0)\n",
            "Requirement already satisfied: requests in /usr/local/lib/python3.8/dist-packages (from torchvision) (2.25.1)\n",
            "Requirement already satisfied: pillow!=8.3.*,>=5.3.0 in /usr/local/lib/python3.8/dist-packages (from torchvision) (7.1.2)\n",
            "Requirement already satisfied: numpy in /usr/local/lib/python3.8/dist-packages (from torchvision) (1.21.6)\n",
            "Requirement already satisfied: idna<3,>=2.5 in /usr/local/lib/python3.8/dist-packages (from requests->torchvision) (2.10)\n",
            "Requirement already satisfied: certifi>=2017.4.17 in /usr/local/lib/python3.8/dist-packages (from requests->torchvision) (2022.12.7)\n",
            "Requirement already satisfied: urllib3<1.27,>=1.21.1 in /usr/local/lib/python3.8/dist-packages (from requests->torchvision) (1.24.3)\n",
            "Requirement already satisfied: chardet<5,>=3.0.2 in /usr/local/lib/python3.8/dist-packages (from requests->torchvision) (4.0.0)\n"
          ]
        }
      ]
    },
    {
      "cell_type": "markdown",
      "source": [
        "# Creating DataBase"
      ],
      "metadata": {
        "id": "1N9tB3lPP9Dx"
      }
    },
    {
      "cell_type": "code",
      "source": [
        "import numpy as np\n",
        "import random as rd\n",
        "import math\n",
        "\n",
        "# Dataset Variables\n",
        "sampleCount = 1\n",
        "objects = 2\n",
        "\n",
        "gravityConstant = 1\n",
        "\n",
        "timeScale = .05\n",
        "timeRange = 1\n",
        "frameRange = [100, 400]\n",
        "\n",
        "positionRange = 100\n",
        "velocityRange = 20\n",
        "\n",
        "setMass = 1\n",
        "\n",
        "samples = []\n",
        "\n",
        "# Random functions\n",
        "def normalRand():\n",
        "  return (rd.random()-.5)*2\n",
        "\n",
        "def randRange(_range):\n",
        "  return _range[0] + rd.random() * (_range[1] - _range[0])\n",
        "\n",
        "def simulate(sample):\n",
        "\n",
        "  # Creating manipulatable objects\n",
        "  objects1 = []\n",
        "  objects2 = []\n",
        "  for obj in range(sample.objects):\n",
        "    objects1.append(obj.copy())\n",
        "    objects2.append(obj.copy())\n",
        "\n",
        "  # Actual simulation\n",
        "  for i in range(sample.frames):\n",
        "    \n",
        "    \n",
        "    # Swapping Buffers\n",
        "    temp = objects1\n",
        "    objects1 = objects2\n",
        "    objects2 = temp\n",
        "\n",
        "  # End state\n",
        "  sample.endState = objects1\n",
        "\n",
        "def createSample():\n",
        "  newsample = {}\n",
        "  newsample.objects = []\n",
        "  newsample.frames = randRange(frameRange)\n",
        "  for i in range(objects):\n",
        "    newobject = {}\n",
        "    newobject.x = rd.random()*positionRange\n",
        "    newobject.y = rd.random()*positionRange\n",
        "\n",
        "    newobject.vx = normalRand()*velocityRange\n",
        "    newobject.vy = normalRand()*velocityRange\n",
        "\n",
        "    newobject.mass = setMass\n",
        "    newsample.objects.append(newobject)\n",
        "\n",
        "  simulate(newsample)\n",
        "\n",
        "  return newsample\n",
        "\n",
        "for i in range(sampleCount):\n",
        "  samples.append(createSample())\n"
      ],
      "metadata": {
        "colab": {
          "base_uri": "https://localhost:8080/"
        },
        "id": "hkNfrJjsPsKZ",
        "outputId": "0cb8c7fd-964b-4736-9c32-320a94991c11"
      },
      "execution_count": null,
      "outputs": [
        {
          "output_type": "stream",
          "name": "stdout",
          "text": [
            "mkdir: cannot create directory ‘trainingdata’: File exists\n"
          ]
        }
      ]
    },
    {
      "cell_type": "markdown",
      "source": [
        "# Creating the AI"
      ],
      "metadata": {
        "id": "tt-Oubp5QAxy"
      }
    }
  ]
}