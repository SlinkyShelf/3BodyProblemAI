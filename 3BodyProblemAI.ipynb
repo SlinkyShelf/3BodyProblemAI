{
  "nbformat": 4,
  "nbformat_minor": 0,
  "metadata": {
    "colab": {
      "provenance": [],
      "include_colab_link": true
    },
    "kernelspec": {
      "name": "python3",
      "display_name": "Python 3"
    },
    "language_info": {
      "name": "python"
    }
  },
  "cells": [
    {
      "cell_type": "markdown",
      "metadata": {
        "id": "view-in-github",
        "colab_type": "text"
      },
      "source": [
        "<a href=\"https://colab.research.google.com/github/SlinkyShelf/3BodyProblemAI/blob/main/3BodyProblemAI.ipynb\" target=\"_parent\"><img src=\"https://colab.research.google.com/assets/colab-badge.svg\" alt=\"Open In Colab\"/></a>"
      ]
    },
    {
      "cell_type": "markdown",
      "source": [
        "# Python Packages"
      ],
      "metadata": {
        "id": "9TC1v0jySnJi"
      }
    },
    {
      "cell_type": "markdown",
      "source": [
        "Most are already installed :)"
      ],
      "metadata": {
        "id": "W_D8EHUcrzKt"
      }
    },
    {
      "cell_type": "markdown",
      "source": [
        "# Creating DataBase"
      ],
      "metadata": {
        "id": "1N9tB3lPP9Dx"
      }
    },
    {
      "cell_type": "code",
      "source": [
        "import numpy as np\n",
        "import random as rd\n",
        "from matplotlib import pyplot as plt\n",
        "import PIL\n",
        "from PIL import Image, ImageDraw\n",
        "import math\n",
        "import time\n",
        "\n",
        "# Dataset Variables\n",
        "sampleCount = 1\n",
        "objects = 3\n",
        "\n",
        "gravityConstant = 1000\n",
        "\n",
        "setFrames = 3000\n",
        "\n",
        "timeStep = .05\n",
        "timeRange = 1\n",
        "frameRange = [setFrames, setFrames]\n",
        "\n",
        "positionRange = 50\n",
        "velocityRange = 5\n",
        "\n",
        "setMass = 1\n",
        "\n",
        "class orbitObject():\n",
        "  def __init__(self, x, y, vx, vy, mass, xa, ya):\n",
        "    self.x = x\n",
        "    self.y = y\n",
        "    self.vx = vx\n",
        "    self.vy = vy\n",
        "    self.mass = mass\n",
        "    self.xa = xa\n",
        "    self.ya = ya\n",
        "\n",
        "  def dup(self):\n",
        "    return orbitObject(self.x, self.y, self.vx, self.vy, self.mass, self.xa, self.ya)\n",
        "    \n",
        "samples = []\n",
        "\n",
        "# rd.seed(4)\n",
        "\n",
        "# Random functions\n",
        "def normalRand():\n",
        "  return (rd.random()-.5)*2\n",
        "\n",
        "def randRange(_range):\n",
        "  return _range[0] + rd.random() * (_range[1] - _range[0])\n",
        "\n",
        "def simulate(sample):\n",
        "\n",
        "  # Creating manipulatable objects\n",
        "  objects1 = []\n",
        "  objects2 = []\n",
        "  sample[\"frameData\"] = []\n",
        "  sample[\"frameData\"].append([])\n",
        "  for obj in sample[\"objects\"]:\n",
        "    objects1.append(obj.dup())\n",
        "    objects2.append(obj.dup())\n",
        "    sample[\"frameData\"][0].append(obj.dup())\n",
        "\n",
        "\n",
        "  # Actual simulation\n",
        "  for i in range(1, sample[\"frames\"]):\n",
        "    sample[\"frameData\"].append([])\n",
        "    for j in range(objects):\n",
        "        xa = 0\n",
        "        ya = 0\n",
        "\n",
        "        obj1 = objects1[j]\n",
        "        obj2 = objects2[j]\n",
        "\n",
        "        for obj in objects1:\n",
        "          if (obj1 == obj):\n",
        "            continue\n",
        "\n",
        "          force = gravityConstant * obj.mass / np.square( np.hypot( obj.x - obj1.x , obj.y - obj1.y ) )\n",
        "          angle = np.arctan2(obj.x-obj1.x, obj.y-obj1.y)\n",
        "          xa += force * np.sin(angle)\n",
        "          ya += force * np.cos(angle)\n",
        "\n",
        "        obj2.x = obj1.x + obj1.vx*timeStep + .5*xa*timeStep*timeStep\n",
        "        obj2.y = obj1.y + obj1.vy*timeStep + .5*ya*timeStep*timeStep\n",
        "\n",
        "        obj2.vx = obj1.vx + xa*timeStep\n",
        "        obj2.vy = obj1.vy + ya*timeStep\n",
        "\n",
        "        obj2.xa = xa\n",
        "        obj2.ya = ya\n",
        "\n",
        "        sample[\"frameData\"][i].append(obj2.dup())\n",
        "\n",
        "        \n",
        "          \n",
        "    \n",
        "    # Swapping Buffers\n",
        "    temp = objects1.copy()\n",
        "    objects1 = objects2.copy()\n",
        "    objects2 = temp\n",
        "\n",
        "  # End state\n",
        "  sample[\"endState\"] = objects1\n",
        "\n",
        "def createSample():\n",
        "  newsample = {}\n",
        "  newsample[\"objects\"] = []\n",
        "  newsample[\"frames\"] =  int(randRange(frameRange))\n",
        "  for i in range(objects):\n",
        "    newobject = orbitObject(\n",
        "        normalRand()*positionRange, \n",
        "        normalRand()*positionRange, \n",
        "\n",
        "        normalRand()*velocityRange, \n",
        "        normalRand()*velocityRange, \n",
        "\n",
        "        setMass*rd.random(),\n",
        "        0, 0\n",
        "        )\n",
        "    \n",
        "    newsample[\"objects\"].append(newobject)\n",
        "\n",
        "  simulate(newsample)\n",
        "\n",
        "  return newsample\n",
        "\n",
        "for i in range(sampleCount):\n",
        "  samples.append(createSample())\n",
        "\n",
        "# Attepmting to display the sample\n",
        "\n",
        "imsize = 1000\n",
        "im = PIL.Image.new(mode = \"RGB\", size = (imsize, imsize),\n",
        "                           color = (255, 255, 255))\n",
        "\n",
        "draw = PIL.ImageDraw.Draw(im)\n",
        "# draw.line((0, 0, 100, 100), fill=(255, 0, 0))\n",
        "\n",
        "imCordSize = 2000\n",
        "colors = [(255, 0, 0), (0, 255, 0), (0, 0, 255)]\n",
        "def getCords(x, y):\n",
        "  return [(imCordSize/2+x)/imCordSize * imsize, (imCordSize/2+y)/imCordSize * imsize]\n",
        "\n",
        "def drawCircle(x, y, r, fill):\n",
        "  leftUpPoint = (x-r, y-r)\n",
        "  rightDownPoint = (x+r, y+r)\n",
        "  twoPointList = [leftUpPoint, rightDownPoint]\n",
        "  draw.ellipse(twoPointList, fill=fill)\n",
        "\n",
        "for i in range(objects):\n",
        "  for j in range(1, samples[0][\"frames\"]):\n",
        "\n",
        "    obj1 = samples[0][\"frameData\"][j-1][i]\n",
        "    obj2 = samples[0][\"frameData\"][j][i]\n",
        "\n",
        "    op1 = getCords(obj1.x, obj1.y)\n",
        "    op2 = getCords(obj2.x, obj2.y)\n",
        "\n",
        "    color = tuple([int(x*(j/samples[0][\"frames\"])) for x in colors[i]])\n",
        "\n",
        "\n",
        "    # print(op1[0])\n",
        "\n",
        "    draw.line((op1[0], op1[1], op2[0], op2[1]), fill=color, width=2)\n",
        "    # drawCircle(op1[0], op1[1], 5, color)\n",
        "\n",
        "    c = np.hypot(obj1.xa, obj1.ya)\n",
        "\n",
        "    if (math.floor(j%200) == 0):\n",
        "      # draw.line((op1[0], op1[1], op1[0]+obj1.xa/c*50, op1[1] +obj1.ya/c*50), fill=(0, 0, 0), width=3)\n",
        "      # print(op1)\n",
        "      pass\n",
        "\n",
        "plt.rcParams['figure.figsize'] = [8, 8]\n",
        "plt.imshow(im)\n",
        "plt.axis(\"off\")\n",
        "plt.show()"
      ],
      "metadata": {
        "id": "hkNfrJjsPsKZ",
        "colab": {
          "base_uri": "https://localhost:8080/",
          "height": 466
        },
        "outputId": "ea0afe61-5a27-4234-f46b-2dacc6b51401"
      },
      "execution_count": 273,
      "outputs": [
        {
          "output_type": "display_data",
          "data": {
            "text/plain": [
              "<Figure size 576x576 with 1 Axes>"
            ],
            "image/png": "[encoded data removed]"
          },
          "metadata": {
            "needs_background": "light"
          }
        }
      ]
    },
    {
      "cell_type": "code",
      "source": [
        "import numpy as np\n",
        "import random as rd\n",
        "from matplotlib import pyplot as plt\n",
        "import PIL\n",
        "from PIL import Image, ImageDraw\n",
        "import math\n",
        "import time\n",
        "\n",
        "# Dataset Variables\n",
        "sampleCount = 1\n",
        "objects = 3\n",
        "\n",
        "gravityConstant = 1000\n",
        "\n",
        "setFrames = 3000\n",
        "\n",
        "timeStep = .05\n",
        "timeRange = 1\n",
        "frameRange = [setFrames, setFrames]\n",
        "\n",
        "positionRange = 50\n",
        "velocityRange = 5\n",
        "\n",
        "setMass = 1\n",
        "\n",
        "# functions\n",
        "def normalRand():\n",
        "  return (rd.random()-.5)*2\n",
        "\n",
        "def randRange(_range):\n",
        "  return _range[0] + rd.random() * (_range[1] - _range[0])\n",
        "\n",
        "# dataset\n",
        "samples = np.ndarray([sampleCount, objects, 9])"
      ],
      "metadata": {
        "id": "GoLxZc6ph07v"
      },
      "execution_count": null,
      "outputs": []
    },
    {
      "cell_type": "markdown",
      "source": [
        "# Creating the AI"
      ],
      "metadata": {
        "id": "tt-Oubp5QAxy"
      }
    }
  ]
}